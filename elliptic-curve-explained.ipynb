{
 "cells": [
  {
   "cell_type": "code",
   "execution_count": 4,
   "metadata": {},
   "outputs": [],
   "source": [
    "%matplotlib inline"
   ]
  },
  {
   "cell_type": "code",
   "execution_count": 5,
   "metadata": {},
   "outputs": [],
   "source": [
    "import numpy as np\n",
    "\n",
    "def y_value(a, b, x):\n",
    "    \"\"\"Get positive y value of the curve given x\"\"\"\n",
    "    return pow(pow(x, 3) + x * a + b, 0.5)\n",
    "\n",
    "class Point:\n",
    "    def __init__(self, x=float('inf'), y=float('inf')):\n",
    "        self.x = x\n",
    "        self.y = y\n",
    "    \n",
    "    def __add__(self, other):\n",
    "        assert type(other) is Point\n",
    "        dx = other.x - self.x\n",
    "        dy = other.y - self.y\n",
    "        if dx == 0:\n",
    "            return Point()\n",
    "        slope = dy / dx\n",
    "        x = (slope ** 2) - self.x - other.x\n",
    "        y = slope * x + (self.y - slope * self.x)\n",
    "        return Point(x, -y)\n",
    "    \n",
    "    def oppsite(self):\n",
    "        return Point(self.x, -self.y)\n",
    "    \n",
    "    def np(self):\n",
    "        return np.array([self.x, self.y])"
   ]
  },
  {
   "cell_type": "code",
   "execution_count": 10,
   "metadata": {},
   "outputs": [
    {
     "data": {
      "image/png": "[encoded data removed]",
      "text/plain": [
       "<Figure size 432x288 with 1 Axes>"
      ]
     },
     "metadata": {
      "needs_background": "light"
     },
     "output_type": "display_data"
    }
   ],
   "source": [
    "\n",
    "import matplotlib.pyplot as plt\n",
    "\n",
    "a = -3\n",
    "b = 5\n",
    "\n",
    "y, x = np.ogrid[-5:5:100j, -5:5:100j]\n",
    "z = pow(y, 2) - pow(x, 3) - x * a - b\n",
    "\n",
    "plt.contour(x.ravel(), y.ravel(), z, [0])\n",
    "plt.axhline(y=0, color='r')\n",
    "plt.axvline(x=0, color='b')\n",
    "\n",
    "p0 = Point(-2.1, y_value(a, b, -2.1))\n",
    "p1 = Point(2, y_value(a, b, 2))\n",
    "p2 = p0 + p1\n",
    "\n",
    "line = np.array([\n",
    "    p0.np(),\n",
    "    p2.np(),\n",
    "    p1.np()\n",
    "])\n",
    " \n",
    "plt.plot(line[:,0], line[:,1], marker='o')\n",
    "plt.annotate('A', xy=line[0] + np.array([-0.3, 0.3]))\n",
    "plt.annotate('B', xy=line[2] + np.array([-0.3, 0.3]))\n",
    "\n",
    "plt.grid()\n",
    "plt.show()"
   ]
  },
  {
   "cell_type": "code",
   "execution_count": null,
   "metadata": {},
   "outputs": [],
   "source": []
  }
 ],
 "metadata": {
  "kernelspec": {
   "display_name": "venv",
   "language": "python",
   "name": "venv"
  },
  "language_info": {
   "codemirror_mode": {
    "name": "ipython",
    "version": 3
   },
   "file_extension": ".py",
   "mimetype": "text/x-python",
   "name": "python",
   "nbconvert_exporter": "python",
   "pygments_lexer": "ipython3",
   "version": "3.7.0"
  }
 },
 "nbformat": 4,
 "nbformat_minor": 2
}
