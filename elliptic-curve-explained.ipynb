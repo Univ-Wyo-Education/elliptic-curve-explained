{
 "cells": [
  {
   "cell_type": "code",
   "execution_count": 1,
   "metadata": {},
   "outputs": [],
   "source": [
    "%matplotlib inline"
   ]
  },
  {
   "cell_type": "code",
   "execution_count": 70,
   "metadata": {},
   "outputs": [
    {
     "data": {
      "image/png": "[encoded data removed]",
      "text/plain": [
       "<Figure size 432x288 with 1 Axes>"
      ]
     },
     "metadata": {
      "needs_background": "light"
     },
     "output_type": "display_data"
    }
   ],
   "source": [
    "import numpy as np\n",
    "import matplotlib.pyplot as plt\n",
    "\n",
    "a = -3\n",
    "b = 5\n",
    "\n",
    "y, x = np.ogrid[-5:5:100j, -5:5:100j]\n",
    "z = pow(y, 2) - pow(x, 3) - x * a - b\n",
    "\n",
    "def y_value(x):\n",
    "    \"\"\"Get positive y value of the curve given x\"\"\"\n",
    "    return pow(pow(x, 3) + x * a + b, 0.5)\n",
    "\n",
    "\n",
    "def third_point(p0, p1):\n",
    "    delta = p1 - p0\n",
    "    slope = delta[1] / delta[0]\n",
    "    x0, y0 = p0\n",
    "    x1, y1 = p1\n",
    "    x = (slope ** 2) - x0 - x1\n",
    "    return (x, slope * x + (y0 - slope * x0))\n",
    "    \n",
    "\n",
    "plt.contour(x.ravel(), y.ravel(), z, [0])\n",
    "plt.axhline(y=0, color='r')\n",
    "plt.axvline(x=0, color='b')\n",
    "\n",
    "p0 = (-2.1, y_value(-2.1))\n",
    "p2 = (2, y_value(2))\n",
    "\n",
    "\n",
    "line = np.array([\n",
    "    ,\n",
    "    [0, y_value(0)],\n",
    "    \n",
    "])\n",
    " \n",
    "plt.plot(line[:,0], line[:,1], marker='o')\n",
    "plt.annotate('A', xy=line[0] + np.array([-0.3, 0.3]))\n",
    "plt.annotate('B', xy=line[2] + np.array([-0.3, 0.3]))\n",
    "\n",
    "plt.grid()\n",
    "plt.show()"
   ]
  },
  {
   "cell_type": "code",
   "execution_count": null,
   "metadata": {},
   "outputs": [],
   "source": []
  }
 ],
 "metadata": {
  "kernelspec": {
   "display_name": "venv",
   "language": "python",
   "name": "venv"
  },
  "language_info": {
   "codemirror_mode": {
    "name": "ipython",
    "version": 3
   },
   "file_extension": ".py",
   "mimetype": "text/x-python",
   "name": "python",
   "nbconvert_exporter": "python",
   "pygments_lexer": "ipython3",
   "version": "3.7.0"
  }
 },
 "nbformat": 4,
 "nbformat_minor": 2
}
