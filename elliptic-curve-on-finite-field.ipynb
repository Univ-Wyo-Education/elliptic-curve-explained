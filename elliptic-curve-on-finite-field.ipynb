{
 "cells": [
  {
   "cell_type": "code",
   "execution_count": 138,
   "metadata": {},
   "outputs": [],
   "source": [
    "%matplotlib inline\n",
    "import matplotlib as mpl\n",
    "mpl.rcParams['figure.dpi'] = 180"
   ]
  },
  {
   "cell_type": "code",
   "execution_count": 139,
   "metadata": {},
   "outputs": [],
   "source": [
    "import numpy as np\n",
    "import matplotlib.lines as mlines\n",
    "\n",
    "P = 19\n",
    "A = -3\n",
    "B = 5\n",
    "\n",
    "# Following two functions for inverting number on field of integers modulo p are from\n",
    "# https://andrea.corbellini.name/2015/05/23/elliptic-curve-cryptography-finite-fields-and-discrete-logarithms/\n",
    "def extended_euclidean_algorithm(a, b):\n",
    "    \"\"\"\n",
    "    Returns a three-tuple (gcd, x, y) such that\n",
    "    a * x + b * y == gcd, where gcd is the greatest\n",
    "    common divisor of a and b.\n",
    "\n",
    "    This function implements the extended Euclidean\n",
    "    algorithm and runs in O(log b) in the worst case.\n",
    "    \"\"\"\n",
    "    s, old_s = 0, 1\n",
    "    t, old_t = 1, 0\n",
    "    r, old_r = b, a\n",
    "\n",
    "    while r != 0:\n",
    "        quotient = old_r // r\n",
    "        old_r, r = r, old_r - quotient * r\n",
    "        old_s, s = s, old_s - quotient * s\n",
    "        old_t, t = t, old_t - quotient * t\n",
    "\n",
    "    return old_r, old_s, old_t\n",
    "\n",
    "\n",
    "def inverse_of(n, p):\n",
    "    \"\"\"\n",
    "    Returns the multiplicative inverse of\n",
    "    n modulo p.\n",
    "\n",
    "    This function returns an integer m such that\n",
    "    (n * m) % p == 1.\n",
    "    \"\"\"\n",
    "    gcd, x, y = extended_euclidean_algorithm(n, p)\n",
    "    assert (n * x + p * y) % p == gcd\n",
    "\n",
    "    if gcd != 1:\n",
    "        # Either n is 0, or p is not a prime number.\n",
    "        raise ValueError(\n",
    "            '{} has no multiplicative inverse '\n",
    "            'modulo {}'.format(n, p))\n",
    "    else:\n",
    "        return x % p\n",
    "\n",
    "    \n",
    "class Point:\n",
    "    def __init__(self, p, x=float('inf'), y=float('inf')):\n",
    "        self.p = p\n",
    "        self.x = x % p\n",
    "        self.y = y % p\n",
    "        \n",
    "    def __repr__(self):\n",
    "        return \"Point(p={}, x={}, y={})\".format(self.p, self.x, self.y)\n",
    "    \n",
    "    def __add__(self, other):\n",
    "        assert type(other) is Point\n",
    "        if self.x == other.x and self.y == other.y:\n",
    "            return self.double()\n",
    "        dx = other.x - self.x\n",
    "        dy = other.y - self.y\n",
    "        if dx == 0:\n",
    "            return Point()\n",
    "        slope = dy * inverse_of(dx, self.p)\n",
    "        x = (slope ** 2) - self.x - other.x\n",
    "        y = slope * x + (self.y - slope * self.x)\n",
    "        x %= self.p\n",
    "        y %= self.p\n",
    "        return Point(self.p, x, -y)\n",
    "    \n",
    "    def double(self):\n",
    "        slope = (3 * (self.x ** 2) + A) * inverse_of(2 * self.y, self.p)\n",
    "        x = (slope ** 2) - (2 * self.x)\n",
    "        y = slope * x + (self.y - slope * self.x)\n",
    "        x %= self.p\n",
    "        y %= self.p\n",
    "        return Point(self.p, x, -y)\n",
    "    \n",
    "    def oppsite(self):\n",
    "        return Point(self.p, self.x, -self.y)\n",
    "    \n",
    "    def np(self):\n",
    "        return np.array([self.x, self.y])\n",
    "    "
   ]
  },
  {
   "cell_type": "code",
   "execution_count": 140,
   "metadata": {},
   "outputs": [],
   "source": [
    "import matplotlib.pyplot as plt\n",
    "\n",
    "def enumerate_points(p):\n",
    "    # TODO: this is silly way, maybe there's a better way\n",
    "    for x in range(p):\n",
    "        for y in range(p):\n",
    "            if (y ** 2) % p == ((x ** 3) + A * x + B) % p:\n",
    "                yield (x, y)\n",
    "\n",
    "                \n",
    "def plot_curve(p, a, b):\n",
    "    points = list(enumerate_points(p))\n",
    "    points = np.array(points)\n",
    "    print(points)\n",
    "\n",
    "    fig, ax = plt.subplots()\n",
    "    ax.scatter(points[:,0], points[:,1])\n",
    "    \n",
    "\n",
    "    ax.set_axisbelow(True)\n",
    "    ax.grid()\n",
    "\n",
    "    return fig, ax"
   ]
  },
  {
   "cell_type": "code",
   "execution_count": 160,
   "metadata": {},
   "outputs": [
    {
     "data": {
      "text/plain": [
       "Point(p=19, x=18, y=11)"
      ]
     },
     "execution_count": 160,
     "metadata": {},
     "output_type": "execute_result"
    }
   ],
   "source": [
    "p0 = Point(P, 3, 2)\n",
    "p1 = Point(P, 5, 18)\n",
    "p2 = p0 + p1\n",
    "p2"
   ]
  },
  {
   "cell_type": "code",
   "execution_count": 161,
   "metadata": {},
   "outputs": [
    {
     "name": "stdout",
     "output_type": "stream",
     "text": [
      "[[ 0  9]\n",
      " [ 0 10]\n",
      " [ 2  8]\n",
      " [ 2 11]\n",
      " [ 3  2]\n",
      " [ 3 17]\n",
      " [ 4  0]\n",
      " [ 5  1]\n",
      " [ 5 18]\n",
      " [ 7  2]\n",
      " [ 7 17]\n",
      " [ 9  2]\n",
      " [ 9 17]\n",
      " [10  5]\n",
      " [10 14]\n",
      " [11  7]\n",
      " [11 12]\n",
      " [12  5]\n",
      " [12 14]\n",
      " [13  4]\n",
      " [13 15]\n",
      " [14  3]\n",
      " [14 16]\n",
      " [16  5]\n",
      " [16 14]\n",
      " [18  8]\n",
      " [18 11]]\n"
     ]
    },
    {
     "data": {
      "image/png": "[encoded data removed]",
      "text/plain": [
       "<Figure size 1080x720 with 1 Axes>"
      ]
     },
     "metadata": {
      "needs_background": "light"
     },
     "output_type": "display_data"
    }
   ],
   "source": [
    "def touch_edge_line(p0, p1):\n",
    "    dx = p1.x - p0.x\n",
    "    dy = p1.y - p0.y\n",
    "    slope = dy / dx\n",
    "    left_offset_x = -(P - p0.y) / slope\n",
    "    right_offset_x = -p1.y / slope\n",
    "    return (\n",
    "        (p0.x - left_offset_x, P),\n",
    "        (p1.x + right_offset_x, 0),\n",
    "    )\n",
    "\n",
    "fig, ax = plot_curve(P, A, B)\n",
    "\n",
    "tp0, tp1 = touch_edge_line(p0, p1)\n",
    "\n",
    "ax.add_line(mlines.Line2D([tp0[0], tp1[0]], [tp0[1], tp1[1]], color='r'))\n",
    "# for i in range(7):\n",
    "#     ax.add_line(mlines.Line2D([tp0[0] + w * i, p1.x + p1_offset_y + w * i], [P, 0], color='r'))\n",
    "    \n",
    "plt.show()"
   ]
  },
  {
   "cell_type": "code",
   "execution_count": null,
   "metadata": {},
   "outputs": [],
   "source": []
  },
  {
   "cell_type": "code",
   "execution_count": null,
   "metadata": {},
   "outputs": [],
   "source": []
  }
 ],
 "metadata": {
  "kernelspec": {
   "display_name": "venv",
   "language": "python",
   "name": "venv"
  },
  "language_info": {
   "codemirror_mode": {
    "name": "ipython",
    "version": 3
   },
   "file_extension": ".py",
   "mimetype": "text/x-python",
   "name": "python",
   "nbconvert_exporter": "python",
   "pygments_lexer": "ipython3",
   "version": "3.7.0"
  }
 },
 "nbformat": 4,
 "nbformat_minor": 2
}
